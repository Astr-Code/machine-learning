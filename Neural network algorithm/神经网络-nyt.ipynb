{
 "cells": [
  {
   "cell_type": "code",
   "execution_count": 3,
   "metadata": {},
   "outputs": [],
   "source": [
    "#导入sklearn.neural_network.MLPClassifier, train_test_split, StandardScaler, matplotlib, numpy, pandas模块\n",
    "import matplotlib.pyplot as plt\n",
    "import numpy as np\n",
    "import pandas as pd\n",
    "from sklearn.neural_network import MLPClassifier\n",
    "from sklearn.model_selection import train_test_split\n",
    "from sklearn.preprocessing import StandardScaler\n",
    "\n",
    "#处理数据\n",
    "datas = pd.read_csv(r'E:\\other\\doing_data_science-master\\doing_data_science-master\\doing_data_science-master\\dds_datasets\\dds_datasets\\dds_ch2_nyt\\nyt1.csv')\n",
    "data = datas.drop(index=datas[datas.Signed_In==0].index)\n",
    "data = data.drop([\"Signed_In\"], axis=1)\n",
    "X, y = data.loc[:, [\"Age\", \"Gender\", \"Impressions\"]], data.loc[:, \"Clicks\"]\n",
    "X_train, X_test, y_train, y_test = train_test_split(X, y, stratify=y, random_state=2)"
   ]
  },
  {
   "cell_type": "code",
   "execution_count": 8,
   "metadata": {},
   "outputs": [],
   "source": [
    "#标准化数据\n",
    "scaler = StandardScaler()\n",
    "scaler.fit(X_train)\n",
    "X_train_scaled = scaler.transform(X_train)\n",
    "X_test_scaled = scaler.transform(X_test)"
   ]
  },
  {
   "cell_type": "code",
   "execution_count": 9,
   "metadata": {},
   "outputs": [
    {
     "name": "stdout",
     "output_type": "stream",
     "text": [
      "Training set score: 0.931\n",
      "Test set score: 0.931\n"
     ]
    }
   ],
   "source": [
    "mlp = MLPClassifier(solver='adam', random_state=2, max_iter=1000, hidden_layer_sizes=[100,20]).fit(X_train_scaled, y_train)\n",
    "# 模型评估\n",
    "print(\"Training set score: {:.3f}\".format(mlp.score(X_train_scaled, y_train)))\n",
    "print(\"Test set score: {:.3f}\".format(mlp.score(X_test_scaled, y_test)))"
   ]
  }
 ],
 "metadata": {
  "kernelspec": {
   "display_name": "Python 3.10.1 64-bit (system)",
   "language": "python",
   "name": "python3"
  },
  "language_info": {
   "codemirror_mode": {
    "name": "ipython",
    "version": 3
   },
   "file_extension": ".py",
   "mimetype": "text/x-python",
   "name": "python",
   "nbconvert_exporter": "python",
   "pygments_lexer": "ipython3",
   "version": "3.10.1"
  },
  "orig_nbformat": 4,
  "vscode": {
   "interpreter": {
    "hash": "d30e6d4e6473c55ee31536bc57169ace291c153da81c0a4bb3e2b2828384d15a"
   }
  }
 },
 "nbformat": 4,
 "nbformat_minor": 2
}
