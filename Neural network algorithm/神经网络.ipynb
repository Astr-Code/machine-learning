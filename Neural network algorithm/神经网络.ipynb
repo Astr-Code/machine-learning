{
 "cells": [
  {
   "cell_type": "code",
   "execution_count": 1,
   "metadata": {},
   "outputs": [],
   "source": [
<<<<<<< HEAD
    "#导入sklearn.neural_network.MLPClassifier, train_test_split, StandardScaler, matplotlib, numpy, pandas模块\n",
=======
    "#导入sklearn.neural_network.MLPClassifier, train_test_split, matplotlib, numpy, pandas模块\n",
>>>>>>> 8e3188c (update file)
    "import matplotlib.pyplot as plt\n",
    "import numpy as np\n",
    "import pandas as pd\n",
    "from sklearn.neural_network import MLPClassifier\n",
    "from sklearn.model_selection import train_test_split\n",
<<<<<<< HEAD
    "from sklearn.preprocessing import StandardScaler\n",
    "from sklearn.pipeline import make_pipeline\n",
    "import torch\n"
   ]
  },
  {
   "cell_type": "code",
   "execution_count": null,
   "metadata": {},
   "outputs": [],
   "source": [
    "\n",
    "#处理数据\n",
    "data = pd.read_csv(r'F:\\vscodefiles\\ML\\000001.csv', encoding='gbk')\n",
    "X, y = data.loc[:], data.loc[:, \"涨跌幅\"]\n",
    "X = X.drop([\"涨跌幅\"], axis=1)\n",
    "X_train, X_test, y_train, y_test = train_test_split(X, y, random_state=0)\n",
    "print(X_test.isnull().any().any())\n",
    "print(X_train.isnull().any().any())"
=======
    "\n",
    "#处理数据\n",
    "datas = pd.read_csv(r'E:\\other\\doing_data_science-master\\doing_data_science-master\\doing_data_science-master\\dds_datasets\\dds_datasets\\dds_ch2_nyt\\nyt1.csv')\n",
    "data = datas.drop(index=datas[datas.Signed_In==0].index)\n",
    "data = data.drop([\"Signed_In\"], axis=1)\n",
    "X, y = data.loc[:, [\"Age\", \"Gender\", \"Impressions\"]], data.loc[:, \"Clicks\"]\n",
    "X_train, X_test, y_train, y_test = train_test_split(X, y, stratify=y, random_state=2)"
>>>>>>> 8e3188c (update file)
   ]
  },
  {
   "cell_type": "code",
<<<<<<< HEAD
   "execution_count": null,
   "metadata": {},
   "outputs": [],
   "source": [
    "#标准化数据\n",
    "pipline = make_pipeline([\"StandardScaler()\", \"MLPClassifier(solver='adam', random_state=0, max_iter=1000, hidden_layer_sizes=[10,10])\"])\n",
    "pipline.fit(X_train, y_train)\n",
    "#scaler = StandardScaler()\n",
    "#scaler.fit(X_train)\n",
    "#X_train_scaled = scaler.transform(X_train)\n",
    "#X_test_scaled = scaler.transform(X_test)"
=======
   "execution_count": 7,
   "metadata": {},
   "outputs": [],
   "source": [
    "mean_on_train = X_train.mean(axis=0)\n",
    "std_on_train = X_train.std(axis=0)\n",
    "X_train_scaled = (X_train - mean_on_train) / std_on_train\n",
    "X_test_scaled = (X_test - mean_on_train) / std_on_train"
>>>>>>> 8e3188c (update file)
   ]
  },
  {
   "cell_type": "code",
<<<<<<< HEAD
   "execution_count": null,
   "metadata": {},
   "outputs": [],
   "source": [
    "#mlp = MLPClassifier(solver='adam', random_state=0, max_iter=1000, hidden_layer_sizes=[10,10]).fit(X_train_scaled, y_train)\n",
    "# 模型评估\n",
    "print(\"Training set score: {:.3f}\".format(pipline.score(X_train, y_train)))\n",
    "print(\"Test set score: {:.3f}\".format(pipline.score(X_test, y_test)))"
=======
   "execution_count": 8,
   "metadata": {},
   "outputs": [
    {
     "name": "stdout",
     "output_type": "stream",
     "text": [
      "Training set score: 0.931\n",
      "Test set score: 0.931\n"
     ]
    }
   ],
   "source": [
    "mlp = MLPClassifier(solver='adam', random_state=0, max_iter=1000, hidden_layer_sizes=[100,20]).fit(X_train_scaled, y_train)\n",
    "# 模型评估\n",
    "print(\"Training set score: {:.3f}\".format(mlp.score(X_train_scaled, y_train)))\n",
    "print(\"Test set score: {:.3f}\".format(mlp.score(X_test_scaled, y_test)))"
>>>>>>> 8e3188c (update file)
   ]
  }
 ],
 "metadata": {
  "kernelspec": {
<<<<<<< HEAD
   "display_name": "Python('MLearn':conda)",
   "language": "python",
   "name": "pytorch"
=======
   "display_name": "Python 3.8.8 ('base')",
   "language": "python",
   "name": "python3"
>>>>>>> 8e3188c (update file)
  },
  "language_info": {
   "codemirror_mode": {
    "name": "ipython",
    "version": 3
   },
   "file_extension": ".py",
   "mimetype": "text/x-python",
   "name": "python",
   "nbconvert_exporter": "python",
   "pygments_lexer": "ipython3",
<<<<<<< HEAD
   "version": "3.9.12"
=======
   "version": "3.8.8"
>>>>>>> 8e3188c (update file)
  },
  "orig_nbformat": 4,
  "vscode": {
   "interpreter": {
<<<<<<< HEAD
    "hash": "d30e6d4e6473c55ee31536bc57169ace291c153da81c0a4bb3e2b2828384d15a"
=======
    "hash": "7758e92e9a61d7a3490898707f7eeb937c85e9d1e8d4e877cc6c187218f226d5"
>>>>>>> 8e3188c (update file)
   }
  }
 },
 "nbformat": 4,
 "nbformat_minor": 2
}
