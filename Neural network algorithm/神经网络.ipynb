{
 "cells": [
  {
   "cell_type": "code",
   "execution_count": 1,
   "metadata": {},
   "outputs": [],
   "source": [
    "#导入sklearn.neural_network.MLPClassifier, train_test_split, StandardScaler, matplotlib, numpy, pandas模块\n",
    "import matplotlib.pyplot as plt\n",
    "import numpy as np\n",
    "import pandas as pd\n",
    "from sklearn.neural_network import MLPClassifier\n",
    "from sklearn.model_selection import train_test_split\n",
    "from sklearn.preprocessing import StandardScaler\n",
    "from sklearn.pipeline import make_pipeline\n",
    "import torch\n"
   ]
  },
  {
   "cell_type": "code",
   "execution_count": null,
   "metadata": {},
   "outputs": [],
   "source": [
    "\n",
    "#处理数据\n",
    "data = pd.read_csv(r'F:\\vscodefiles\\ML\\000001.csv', encoding='gbk')\n",
    "X, y = data.loc[:], data.loc[:, \"涨跌幅\"]\n",
    "X = X.drop([\"涨跌幅\"], axis=1)\n",
    "X_train, X_test, y_train, y_test = train_test_split(X, y, random_state=0)\n",
    "print(X_test.isnull().any().any())\n",
    "print(X_train.isnull().any().any())"
   ]
  },
  {
   "cell_type": "code",
   "execution_count": null,
   "metadata": {},
   "outputs": [],
   "source": [
    "#标准化数据\n",
    "pipline = make_pipeline([\"StandardScaler()\", \"MLPClassifier(solver='adam', random_state=0, max_iter=1000, hidden_layer_sizes=[10,10])\"])\n",
    "pipline.fit(X_train, y_train)\n",
    "#scaler = StandardScaler()\n",
    "#scaler.fit(X_train)\n",
    "#X_train_scaled = scaler.transform(X_train)\n",
    "#X_test_scaled = scaler.transform(X_test)"
   ]
  },
  {
   "cell_type": "code",
   "execution_count": null,
   "metadata": {},
   "outputs": [],
   "source": [
    "#mlp = MLPClassifier(solver='adam', random_state=0, max_iter=1000, hidden_layer_sizes=[10,10]).fit(X_train_scaled, y_train)\n",
    "# 模型评估\n",
    "print(\"Training set score: {:.3f}\".format(pipline.score(X_train, y_train)))\n",
    "print(\"Test set score: {:.3f}\".format(pipline.score(X_test, y_test)))"
   ]
  }
 ],
 "metadata": {
  "kernelspec": {
   "display_name": "Python('MLearn':conda)",
   "language": "python",
   "name": "pytorch"
  },
  "language_info": {
   "codemirror_mode": {
    "name": "ipython",
    "version": 3
   },
   "file_extension": ".py",
   "mimetype": "text/x-python",
   "name": "python",
   "nbconvert_exporter": "python",
   "pygments_lexer": "ipython3",
   "version": "3.9.12"
  },
  "orig_nbformat": 4,
  "vscode": {
   "interpreter": {
    "hash": "d30e6d4e6473c55ee31536bc57169ace291c153da81c0a4bb3e2b2828384d15a"
   }
  }
 },
 "nbformat": 4,
 "nbformat_minor": 2
}
