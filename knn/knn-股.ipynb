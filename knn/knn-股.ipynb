{
 "cells": [
  {
   "cell_type": "code",
   "execution_count": 2,
   "metadata": {},
   "outputs": [],
   "source": [
    "#导入sklearn.neighbors.KNeighborsRegressor, train_test_split, matplotlib, numpy, pandas模块\n",
    "import matplotlib.pyplot as plt\n",
    "import numpy as np\n",
    "import pandas as pd\n",
    "from sklearn.neighbors import KNeighborsRegressor\n",
    "from sklearn.model_selection import train_test_split"
   ]
  },
  {
   "cell_type": "code",
   "execution_count": 3,
   "metadata": {},
   "outputs": [
    {
     "name": "stdout",
     "output_type": "stream",
     "text": [
      "False\n",
      "False\n"
     ]
    }
   ],
   "source": [
    "#处理数据\n",
    "data = pd.read_csv(r'F:\\vscodefiles\\ML\\000001.csv', encoding='gbk')\n",
    "X, y = data.loc[:], data.loc[:, \"涨跌幅\"]\n",
    "X = X.drop([\"涨跌幅\"], axis=1)\n",
    "X_train, X_test, y_train, y_test = train_test_split(X, y, random_state=0)\n",
    "print(X_test.isnull().any().any())\n",
    "print(X_train.isnull().any().any())"
   ]
  },
  {
   "cell_type": "code",
   "execution_count": 4,
   "metadata": {},
   "outputs": [
    {
     "name": "stdout",
     "output_type": "stream",
     "text": [
      "K = 1\n",
      "Train set score: 1.000\n",
      "Test set score: -0.921\n",
      "K = 2\n",
      "Train set score: 0.497\n",
      "Test set score: -1.240\n",
      "K = 3\n",
      "Train set score: 0.294\n",
      "Test set score: -0.620\n",
      "K = 4\n",
      "Train set score: 0.257\n",
      "Test set score: -0.393\n",
      "K = 5\n",
      "Train set score: 0.203\n",
      "Test set score: -0.296\n",
      "K = 6\n",
      "Train set score: 0.144\n",
      "Test set score: -0.219\n",
      "K = 7\n",
      "Train set score: 0.136\n",
      "Test set score: -0.160\n",
      "K = 8\n",
      "Train set score: 0.129\n",
      "Test set score: -0.147\n",
      "K = 9\n",
      "Train set score: 0.120\n",
      "Test set score: -0.132\n",
      "K = 10\n",
      "Train set score: 0.106\n",
      "Test set score: -0.120\n",
      "K = 11\n",
      "Train set score: 0.105\n",
      "Test set score: -0.110\n",
      "K = 12\n",
      "Train set score: 0.093\n",
      "Test set score: -0.120\n",
      "K = 13\n",
      "Train set score: 0.088\n",
      "Test set score: -0.114\n",
      "K = 14\n",
      "Train set score: 0.087\n",
      "Test set score: -0.101\n",
      "K = 15\n",
      "Train set score: 0.084\n",
      "Test set score: -0.089\n",
      "K = 16\n",
      "Train set score: 0.080\n",
      "Test set score: -0.079\n",
      "K = 17\n",
      "Train set score: 0.076\n",
      "Test set score: -0.080\n",
      "K = 18\n",
      "Train set score: 0.072\n",
      "Test set score: -0.078\n",
      "K = 19\n",
      "Train set score: 0.065\n",
      "Test set score: -0.072\n",
      "K = 20\n",
      "Train set score: 0.061\n",
      "Test set score: -0.067\n",
      "K = 21\n",
      "Train set score: 0.058\n",
      "Test set score: -0.063\n",
      "K = 22\n",
      "Train set score: 0.057\n",
      "Test set score: -0.061\n",
      "K = 23\n",
      "Train set score: 0.054\n",
      "Test set score: -0.057\n",
      "K = 24\n",
      "Train set score: 0.053\n",
      "Test set score: -0.056\n",
      "K = 25\n",
      "Train set score: 0.052\n",
      "Test set score: -0.057\n",
      "K = 26\n",
      "Train set score: 0.047\n",
      "Test set score: -0.063\n",
      "K = 27\n",
      "Train set score: 0.046\n",
      "Test set score: -0.058\n",
      "K = 28\n",
      "Train set score: 0.045\n",
      "Test set score: -0.056\n",
      "K = 29\n",
      "Train set score: 0.044\n",
      "Test set score: -0.056\n",
      "K = 30\n",
      "Train set score: 0.044\n",
      "Test set score: -0.056\n"
     ]
    }
   ],
   "source": [
    "for i in range(1, 31):\n",
    "    reg: object = KNeighborsRegressor(n_neighbors=i).fit(X_train, y_train)\n",
    "    print(f\"K = {i}\")\n",
    "    # 模型评估\n",
    "    print(\"Train set score: {:.3f}\".format(reg.score(X_train, y_train)))\n",
    "    print(\"Test set score: {:.3f}\".format(reg.score(X_test, y_test)))"
   ]
  }
 ],
 "metadata": {
  "kernelspec": {
   "display_name": "Python 3.10.1 64-bit (system)",
   "language": "python",
   "name": "python3"
  },
  "language_info": {
   "codemirror_mode": {
    "name": "ipython",
    "version": 3
   },
   "file_extension": ".py",
   "mimetype": "text/x-python",
   "name": "python",
   "nbconvert_exporter": "python",
   "pygments_lexer": "ipython3",
   "version": "3.10.1"
  },
  "orig_nbformat": 4,
  "vscode": {
   "interpreter": {
    "hash": "d30e6d4e6473c55ee31536bc57169ace291c153da81c0a4bb3e2b2828384d15a"
   }
  }
 },
 "nbformat": 4,
 "nbformat_minor": 2
}
