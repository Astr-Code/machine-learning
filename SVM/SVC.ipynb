{
 "cells": [
  {
   "cell_type": "code",
   "execution_count": 1,
   "metadata": {},
   "outputs": [],
   "source": [
    "#导入sklearn.svm.SVC, train_test_split, matplotlib, numpy, pandas模块\n",
    "import matplotlib.pyplot as plt\n",
    "import numpy as np\n",
    "import pandas as pd\n",
    "from sklearn.svm import SVC\n",
    "from sklearn.model_selection import train_test_split\n",
    "\n",
    "#处理数据\n",
    "datas = pd.read_csv(r'E:\\other\\doing_data_science-master\\doing_data_science-master\\doing_data_science-master\\dds_datasets\\dds_datasets\\dds_ch2_nyt\\nyt1.csv')\n",
    "data = datas.drop(index=datas[datas.Signed_In==0].index)\n",
    "data = data.drop([\"Signed_In\"], axis=1)\n",
    "X, y = data.loc[:, [\"Age\", \"Gender\", \"Impressions\"]], data.loc[:, \"Clicks\"]\n",
    "X_train, X_test, y_train, y_test = train_test_split(X, y, stratify=y, random_state=2)\n",
    "min_on_training = X_train.min(axis=0)\n",
    "range_on_training = (X_train - min_on_training).max(axis=0)\n",
    "X_train_scaled = (X_train - min_on_training) / range_on_training\n",
    "X_test_scaled = (X_test - min_on_training) / range_on_training"
   ]
  },
  {
   "cell_type": "code",
   "execution_count": 3,
   "metadata": {},
   "outputs": [],
   "source": [
    "reg: object = SVC(C=1000).fit(X_train_scaled, y_train)\n",
    "# 模型评估\n",
    "print(\"Training set score: {:.3f}\".format(reg.score(X_train_scaled, y_train)))\n",
    "print(\"Test set score: {:.3f}\".format(reg.score(X_test_scaled, y_test)))"
   ]
  }
 ],
 "metadata": {
  "kernelspec": {
   "display_name": "Python 3.8.8 ('base')",
   "language": "python",
   "name": "python3"
  },
  "language_info": {
   "codemirror_mode": {
    "name": "ipython",
    "version": 3
   },
   "file_extension": ".py",
   "mimetype": "text/x-python",
   "name": "python",
   "nbconvert_exporter": "python",
   "pygments_lexer": "ipython3",
   "version": "3.8.8"
  },
  "orig_nbformat": 4,
  "vscode": {
   "interpreter": {
    "hash": "7758e92e9a61d7a3490898707f7eeb937c85e9d1e8d4e877cc6c187218f226d5"
   }
  }
 },
 "nbformat": 4,
 "nbformat_minor": 2
}
