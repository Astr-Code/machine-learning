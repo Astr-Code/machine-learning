{
 "cells": [
  {
   "cell_type": "code",
   "execution_count": 1,
   "metadata": {
    "collapsed": true,
    "pycharm": {
     "name": "#%%\n"
    }
   },
   "outputs": [],
   "source": [
    "#导入sklearn.linear_model.LogisticRegression, train_test_split, matplotlib, numpy, pandas模块\n",
    "import matplotlib.pyplot as plt\n",
    "import numpy as np\n",
    "import pandas as pd\n",
    "from sklearn.linear_model import LogisticRegression\n",
    "from sklearn.model_selection import train_test_split\n"
   ]
  },
  {
   "cell_type": "code",
   "execution_count": 6,
   "metadata": {
    "collapsed": false,
    "pycharm": {
     "name": "#%%\n"
    }
   },
   "outputs": [],
   "source": [
    "#处理数据\n",
    "datas = pd.read_csv(r'E:\\other\\doing_data_science-master\\doing_data_science-master\\doing_data_science-master\\dds_datasets\\dds_datasets\\dds_ch2_nyt\\nyt1.csv')\n",
    "data = datas.drop(index=datas[datas.Signed_In==0].index)\n",
    "data = data.drop([\"Signed_In\"], axis=1)\n",
    "X, y = data.loc[:, [\"Age\", \"Gender\", \"Impressions\"]], data.loc[:, \"Clicks\"]\n",
    "X_train, X_test, y_train, y_test = train_test_split(X, y, stratify=y, random_state=2)\n"
   ]
  },
  {
   "cell_type": "code",
   "execution_count": 7,
   "metadata": {
    "collapsed": false,
    "pycharm": {
     "name": "#%%\n"
    }
   },
   "outputs": [],
   "source": [
    "#创建模型\n",
    "reg: object = LogisticRegression(C=100, max_iter=1000).fit(X_train, y_train)"
   ]
  },
  {
   "cell_type": "code",
   "execution_count": 5,
   "metadata": {},
   "outputs": [
    {
     "name": "stdout",
     "output_type": "stream",
     "text": [
      "Training set score: 0.931\n",
      "Test set score: 0.931\n"
     ]
    }
   ],
   "source": [
    "# 模型评估\n",
    "print(\"Training set score: {:.3f}\".format(reg.score(X_train, y_train)))\n",
    "print(\"Test set score: {:.3f}\".format(reg.score(X_test, y_test)))"
   ]
  }
 ],
 "metadata": {
  "kernelspec": {
   "display_name": "Python 3.9.12 ('MLearn')",
   "language": "python",
   "name": "python3"
  },
  "language_info": {
   "codemirror_mode": {
    "name": "ipython",
    "version": 3
   },
   "file_extension": ".py",
   "mimetype": "text/x-python",
   "name": "python",
   "nbconvert_exporter": "python",
   "pygments_lexer": "ipython3",
   "version": "3.9.12"
  },
  "vscode": {
   "interpreter": {
    "hash": "4e7d040499629430296bf1f4ef023373dce54142f940d29f7322db3e9f029f2e"
   }
  }
 },
 "nbformat": 4,
 "nbformat_minor": 0
}
