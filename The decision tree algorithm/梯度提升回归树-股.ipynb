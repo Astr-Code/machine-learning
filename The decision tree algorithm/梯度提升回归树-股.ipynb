{
 "cells": [
  {
   "cell_type": "code",
   "execution_count": 1,
   "metadata": {
    "pycharm": {
     "name": "#%%\n"
    }
   },
   "outputs": [],
   "source": [
    "#导入sklearn.ensemble.GradientBoostingRegressor, train_test_split, matplotlib, numpy, pandas模块\n",
    "import matplotlib.pyplot as plt\n",
    "import numpy as np\n",
    "import pandas as pd\n",
    "from sklearn.ensemble import GradientBoostingRegressor\n",
    "from sklearn.model_selection import train_test_split\n",
    "plt.rcParams['font.sans-serif'] = [\"SimHei\"]"
   ]
  },
  {
   "cell_type": "code",
   "execution_count": null,
   "metadata": {
    "collapsed": false,
    "pycharm": {
     "name": "#%%\n"
    }
   },
   "outputs": [],
   "source": [
    "#处理数据\n",
    "data = pd.read_csv(r'F:\\vscodefiles\\ML\\000001.csv', encoding='gbk')\n",
    "X, y = data.loc[:], data.loc[:, \"涨跌幅\"]\n",
    "X = X.drop([\"涨跌幅\"], axis=1)\n",
    "X_train, X_test, y_train, y_test = train_test_split(X, y, random_state=0)\n",
    "print(X_test.isnull().any().any())\n",
    "print(X_train.isnull().any().any())"
   ]
  },
  {
   "cell_type": "code",
   "execution_count": null,
   "metadata": {
    "collapsed": false,
    "pycharm": {
     "name": "#%%\n"
    }
   },
   "outputs": [],
   "source": [
    "gbrt = GradientBoostingRegressor(random_state=2, max_depth = 2, learning_rate=0.01, n_estimators=1000).fit(X_train, y_train)\n",
    "#计算模型的预测精度\n",
    "print(\"训练集上的准确率：{:.3f}\".format(gbrt.score(X_train, y_train)))\n",
    "print(\"测试集上的准确率：{:.3f}\".format(gbrt.score(X_test, y_test)))"
   ]
  },
  {
   "cell_type": "code",
   "execution_count": null,
   "metadata": {
    "collapsed": false,
    "pycharm": {
     "name": "#%%\n"
    }
   },
   "outputs": [],
   "source": [
    "#特征重要性可视化\n",
    "def plot_feature_importances_cancer(medel):\n",
    "    n_features = X_train.shape[1]\n",
    "    plt.barh(range(n_features), model.feature_importances_, align='center')\n",
    "    plt.yticks(np.arange(n_features), X_train.columns)\n",
    "    plt.xlabel(\"Feature importance\")\n",
    "    plt.ylabel(\"Feature\")\n",
    "\n",
    "plot_feature_importances_cancer(gbrt)"
   ]
  }
 ],
 "metadata": {
  "kernelspec": {
   "display_name": "Python 3.10.1 ('venv': venv)",
   "language": "python",
   "name": "python3"
  },
  "language_info": {
   "codemirror_mode": {
    "name": "ipython",
    "version": 3
   },
   "file_extension": ".py",
   "mimetype": "text/x-python",
   "name": "python",
   "nbconvert_exporter": "python",
   "pygments_lexer": "ipython3",
   "version": "3.10.1"
  },
  "orig_nbformat": 4,
  "vscode": {
   "interpreter": {
    "hash": "0dbdd8b828bebd1c3464a0018269f406091e72bda906432fee3662c7933a5549"
   }
  }
 },
 "nbformat": 4,
 "nbformat_minor": 2
}